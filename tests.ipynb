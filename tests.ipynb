{
 "cells": [
  {
   "cell_type": "code",
   "execution_count": 1,
   "id": "restricted-immigration",
   "metadata": {},
   "outputs": [],
   "source": [
    "%load_ext autoreload\n",
    "%autoreload 2"
   ]
  },
  {
   "cell_type": "markdown",
   "id": "british-pearl",
   "metadata": {},
   "source": [
    "Download if file is not in folder."
   ]
  },
  {
   "cell_type": "code",
   "execution_count": 2,
   "id": "weird-depth",
   "metadata": {},
   "outputs": [],
   "source": [
    "from litedict import SQLDict"
   ]
  },
  {
   "cell_type": "code",
   "execution_count": 3,
   "id": "aerial-float",
   "metadata": {},
   "outputs": [],
   "source": [
    "TEST_1 = \"key_test_1\"\n",
    "TEST_2 = \"key_test_2\""
   ]
  },
  {
   "cell_type": "markdown",
   "id": "narrative-corpus",
   "metadata": {},
   "source": [
    "Basic functionality"
   ]
  },
  {
   "cell_type": "code",
   "execution_count": 4,
   "id": "secure-platinum",
   "metadata": {},
   "outputs": [],
   "source": [
    "d = SQLDict(\":memory:\")\n",
    "\n",
    "d[TEST_1] = \"asdfoobar\"\n",
    "\n",
    "assert d[TEST_1] == \"asdfoobar\"\n",
    "\n",
    "del d[TEST_1]\n",
    "\n",
    "assert d.get(TEST_1, None) is None"
   ]
  },
  {
   "cell_type": "markdown",
   "id": "gross-stamp",
   "metadata": {},
   "source": [
    "Glob matching"
   ]
  },
  {
   "cell_type": "code",
   "execution_count": 5,
   "id": "sixth-consistency",
   "metadata": {},
   "outputs": [],
   "source": [
    "d[TEST_1] = \"asdfoobar\"\n",
    "\n",
    "d[TEST_2] = \"foobarasd\"\n",
    "\n",
    "d[\"key_testx_3\"] = \"barasdfoo\"\n",
    "\n",
    "assert d.glob(\"key_test*\") == [\"asdfoobar\", \"foobarasd\", \"barasdfoo\"]\n",
    "\n",
    "assert d.glob(\"key_test_?\") == [\"asdfoobar\", \"foobarasd\"]\n",
    "\n",
    "assert d.glob(\"key_tes[tx]*\") == [\"asdfoobar\", \"foobarasd\", \"barasdfoo\"]"
   ]
  },
  {
   "cell_type": "markdown",
   "id": "novel-telling",
   "metadata": {},
   "source": [
    "Numbers"
   ]
  },
  {
   "cell_type": "code",
   "execution_count": 6,
   "id": "north-equipment",
   "metadata": {},
   "outputs": [],
   "source": [
    "d[TEST_1] = 1\n",
    "\n",
    "d[TEST_2] = 2\n",
    "\n",
    "assert d[TEST_1] + d[TEST_2] == 3"
   ]
  },
  {
   "cell_type": "code",
   "execution_count": 7,
   "id": "minute-distinction",
   "metadata": {},
   "outputs": [],
   "source": [
    "with d.transaction():\n",
    "    d[\"asd\"] = \"efg\"\n",
    "    d[\"foo\"] = \"bar\"\n",
    "    assert d.conn.in_transaction"
   ]
  },
  {
   "cell_type": "code",
   "execution_count": 8,
   "id": "aquatic-receiver",
   "metadata": {},
   "outputs": [],
   "source": [
    "try:\n",
    "    with d.transaction():\n",
    "        d[\"failed\"] = \"no\"\n",
    "\n",
    "        assert d.conn.in_transaction\n",
    "\n",
    "        raise Exception\n",
    "except:\n",
    "    # check the transaction succesfully rolled back\n",
    "    assert d.get(\"failed\") is None"
   ]
  },
  {
   "cell_type": "code",
   "execution_count": 9,
   "id": "4f5619c0",
   "metadata": {},
   "outputs": [
    {
     "name": "stdout",
     "output_type": "stream",
     "text": [
      "key_testx_3 barasdfoo\n",
      "key_test_1 1\n",
      "key_test_2 2\n",
      "asd efg\n",
      "foo bar\n"
     ]
    }
   ],
   "source": [
    "for k, v in d.items():\n",
    "    print(k, v)"
   ]
  },
  {
   "cell_type": "markdown",
   "id": "991c7fb1",
   "metadata": {},
   "source": [
    "Test moving from/to disk/memory."
   ]
  },
  {
   "cell_type": "code",
   "execution_count": 10,
   "id": "95df7552",
   "metadata": {},
   "outputs": [],
   "source": [
    "import os\n",
    "import pickle\n",
    "\n",
    "fname = \"test_disk.db\"\n",
    "\n",
    "d = SQLDict(\n",
    "    \":memory:\",\n",
    "    encoder=lambda x: pickle.dumps(x).hex(),\n",
    "    decoder=lambda x: pickle.loads(bytes.fromhex(x)),\n",
    ")\n",
    "\n",
    "d[\"foo\"] = \"bar\"\n",
    "d[\"asd\"] = 2\n",
    "\n",
    "d.to_disk(\"test_disk.db\")\n",
    "\n",
    "assert fname in os.listdir()\n",
    "assert \"foo\" in d\n",
    "assert \"asd\" in d\n",
    "\n",
    "d.close()\n",
    "del d\n",
    "\n",
    "\n",
    "d = SQLDict(\n",
    "    fname,\n",
    "    encoder=lambda x: pickle.dumps(x).hex(),\n",
    "    decoder=lambda x: pickle.loads(bytes.fromhex(x)),\n",
    ")\n",
    "\n",
    "assert d[\"foo\"] == \"bar\"\n",
    "assert d[\"asd\"] == 2\n",
    "\n",
    "d.to_memory()\n",
    "\n",
    "os.unlink(fname)\n",
    "\n",
    "assert d[\"foo\"] == \"bar\"\n",
    "assert d[\"asd\"] == 2"
   ]
  },
  {
   "cell_type": "markdown",
   "id": "authentic-colon",
   "metadata": {},
   "source": [
    "## Benchmarks"
   ]
  },
  {
   "cell_type": "code",
   "execution_count": 11,
   "id": "optional-settle",
   "metadata": {},
   "outputs": [],
   "source": [
    "from string import ascii_lowercase, printable\n",
    "from random import choice\n",
    "import random\n",
    "\n",
    "\n",
    "def random_string(string_length=10, fuzz=False, space=False):\n",
    "    \"\"\"Generate a random string of fixed length \"\"\"\n",
    "    letters = ascii_lowercase\n",
    "    letters = letters + \" \" if space else letters\n",
    "    if fuzz:\n",
    "        letters = printable\n",
    "    return \"\".join(choice(letters) for i in range(string_length))"
   ]
  },
  {
   "cell_type": "code",
   "execution_count": 12,
   "id": "devoted-cruise",
   "metadata": {},
   "outputs": [],
   "source": [
    "import gc\n",
    "\n",
    "import pickle\n",
    "\n",
    "import json"
   ]
  },
  {
   "cell_type": "markdown",
   "id": "needed-scope",
   "metadata": {},
   "source": [
    "**Pickle**"
   ]
  },
  {
   "cell_type": "code",
   "execution_count": 13,
   "id": "sacred-track",
   "metadata": {},
   "outputs": [],
   "source": [
    "d = SQLDict(\n",
    "    \":memory:\",\n",
    "    encoder=lambda x: pickle.dumps(x).hex(),\n",
    "    decoder=lambda x: pickle.loads(bytes.fromhex(x)),\n",
    ")"
   ]
  },
  {
   "cell_type": "code",
   "execution_count": 14,
   "id": "dense-ozone",
   "metadata": {},
   "outputs": [
    {
     "data": {
      "text/plain": [
       "67"
      ]
     },
     "execution_count": 14,
     "metadata": {},
     "output_type": "execute_result"
    }
   ],
   "source": [
    "gc.collect()"
   ]
  },
  {
   "cell_type": "code",
   "execution_count": 15,
   "id": "sacred-tennis",
   "metadata": {},
   "outputs": [
    {
     "name": "stdout",
     "output_type": "stream",
     "text": [
      "44.2 µs ± 431 ns per loop (mean ± std. dev. of 10 runs, 20,000 loops each)\n"
     ]
    }
   ],
   "source": [
    "%%timeit -n20000 -r10\n",
    "\n",
    "d[random_string(8)] = random_string(50)\n",
    "\n",
    "d.get(random_string(8), None)"
   ]
  },
  {
   "cell_type": "markdown",
   "id": "correct-smith",
   "metadata": {},
   "source": [
    "**Noop**"
   ]
  },
  {
   "cell_type": "code",
   "execution_count": 16,
   "id": "imported-university",
   "metadata": {},
   "outputs": [],
   "source": [
    "d = SQLDict(\n",
    "    \":memory:\",\n",
    "    encoder=lambda x: x,\n",
    "    decoder=lambda x: x,\n",
    ")"
   ]
  },
  {
   "cell_type": "code",
   "execution_count": 17,
   "id": "tutorial-trauma",
   "metadata": {},
   "outputs": [
    {
     "data": {
      "text/plain": [
       "3"
      ]
     },
     "execution_count": 17,
     "metadata": {},
     "output_type": "execute_result"
    }
   ],
   "source": [
    "gc.collect()"
   ]
  },
  {
   "cell_type": "code",
   "execution_count": 18,
   "id": "bulgarian-colombia",
   "metadata": {},
   "outputs": [
    {
     "name": "stdout",
     "output_type": "stream",
     "text": [
      "42.4 µs ± 750 ns per loop (mean ± std. dev. of 10 runs, 20,000 loops each)\n"
     ]
    }
   ],
   "source": [
    "%%timeit -n20000 -r10\n",
    "\n",
    "d[random_string(8)] = random_string(50)\n",
    "\n",
    "d.get(random_string(8), None)"
   ]
  },
  {
   "cell_type": "markdown",
   "id": "hollow-briefs",
   "metadata": {},
   "source": [
    "**JSON**"
   ]
  },
  {
   "cell_type": "code",
   "execution_count": 19,
   "id": "frank-stable",
   "metadata": {},
   "outputs": [],
   "source": [
    "d = SQLDict(\n",
    "    \":memory:\",\n",
    "    encoder=lambda x: json.dumps(x),\n",
    "    decoder=lambda x: json.loads(x),\n",
    ")"
   ]
  },
  {
   "cell_type": "code",
   "execution_count": 20,
   "id": "wooden-enlargement",
   "metadata": {},
   "outputs": [
    {
     "data": {
      "text/plain": [
       "3"
      ]
     },
     "execution_count": 20,
     "metadata": {},
     "output_type": "execute_result"
    }
   ],
   "source": [
    "gc.collect()"
   ]
  },
  {
   "cell_type": "code",
   "execution_count": 21,
   "id": "after-essex",
   "metadata": {},
   "outputs": [
    {
     "name": "stdout",
     "output_type": "stream",
     "text": [
      "44.1 µs ± 949 ns per loop (mean ± std. dev. of 10 runs, 20,000 loops each)\n"
     ]
    }
   ],
   "source": [
    "%%timeit -n20000 -r10\n",
    "\n",
    "d[random_string(8)] = random_string(50)\n",
    "\n",
    "d.get(random_string(8), None)"
   ]
  },
  {
   "cell_type": "markdown",
   "id": "standard-asian",
   "metadata": {},
   "source": [
    "**Pickle Python obj**"
   ]
  },
  {
   "cell_type": "code",
   "execution_count": 22,
   "id": "dressed-investor",
   "metadata": {},
   "outputs": [],
   "source": [
    "d = SQLDict(\n",
    "    \":memory:\",\n",
    "    encoder=lambda x: pickle.dumps(x).hex(),\n",
    "    decoder=lambda x: pickle.loads(bytes.fromhex(x)),\n",
    ")"
   ]
  },
  {
   "cell_type": "code",
   "execution_count": 23,
   "id": "sustained-aviation",
   "metadata": {},
   "outputs": [
    {
     "data": {
      "text/plain": [
       "3"
      ]
     },
     "execution_count": 23,
     "metadata": {},
     "output_type": "execute_result"
    }
   ],
   "source": [
    "gc.collect()"
   ]
  },
  {
   "cell_type": "code",
   "execution_count": 24,
   "id": "technological-filling",
   "metadata": {},
   "outputs": [],
   "source": [
    "class C:\n",
    "    def __init__(self, x):\n",
    "        self.x = x\n",
    "\n",
    "    def pp(self):\n",
    "        return x\n",
    "\n",
    "    def f(self):\n",
    "        def _f(y):\n",
    "            return y * self.x ** 2\n",
    "\n",
    "        return _f"
   ]
  },
  {
   "cell_type": "code",
   "execution_count": 25,
   "id": "direct-accent",
   "metadata": {},
   "outputs": [
    {
     "name": "stdout",
     "output_type": "stream",
     "text": [
      "29.3 µs ± 635 ns per loop (mean ± std. dev. of 10 runs, 20,000 loops each)\n"
     ]
    }
   ],
   "source": [
    "%%timeit -n20000 -r10\n",
    "\n",
    "d[random_string(8)] = C(random.randint(1, 200))\n",
    "\n",
    "d.get(random_string(8), None)"
   ]
  },
  {
   "cell_type": "markdown",
   "id": "compliant-colony",
   "metadata": {},
   "source": [
    "**Dictionary**"
   ]
  },
  {
   "cell_type": "code",
   "execution_count": 26,
   "id": "ready-palestine",
   "metadata": {},
   "outputs": [],
   "source": [
    "d = {}"
   ]
  },
  {
   "cell_type": "code",
   "execution_count": 27,
   "id": "beginning-survey",
   "metadata": {},
   "outputs": [
    {
     "data": {
      "text/plain": [
       "3"
      ]
     },
     "execution_count": 27,
     "metadata": {},
     "output_type": "execute_result"
    }
   ],
   "source": [
    "gc.collect()"
   ]
  },
  {
   "cell_type": "code",
   "execution_count": 28,
   "id": "civic-preservation",
   "metadata": {},
   "outputs": [
    {
     "name": "stdout",
     "output_type": "stream",
     "text": [
      "30.6 µs ± 1.03 µs per loop (mean ± std. dev. of 10 runs, 20,000 loops each)\n"
     ]
    }
   ],
   "source": [
    "%%timeit -n20000 -r10\n",
    "\n",
    "d[random_string(8)] = random_string(50)\n",
    "\n",
    "d.get(random_string(8), None)"
   ]
  },
  {
   "cell_type": "markdown",
   "id": "2c22f702-66fa-4d71-9fd0-a6e5fbf98464",
   "metadata": {},
   "source": [
    "## Writeback Cache"
   ]
  },
  {
   "cell_type": "markdown",
   "id": "28808cf9-04f3-4954-a8b5-1ff941e4b4a1",
   "metadata": {},
   "source": [
    "### Missing"
   ]
  },
  {
   "cell_type": "code",
   "execution_count": 29,
   "id": "54179289-7dcb-42a9-959f-f0bda8241ef4",
   "metadata": {},
   "outputs": [],
   "source": [
    "d = SQLDict(\":memory:\",writeback=False)\n",
    "mylist = d['test'] = []\n",
    "\n",
    "assert not d['test'] is mylist, \"using writeback when not set\"\n",
    "assert mylist == d['test'], \"equality should still pass\"\n",
    "\n",
    "mylist.append(1)\n",
    "assert mylist != d['test'], \"Should not be equal\"\n",
    "d.close()"
   ]
  },
  {
   "cell_type": "markdown",
   "id": "6719b05a-7b76-4a82-a859-51c5518085fa",
   "metadata": {},
   "source": [
    "### With writeback"
   ]
  },
  {
   "cell_type": "code",
   "execution_count": 30,
   "id": "ec995b2e-eaed-46ef-bb84-b3d3307e15c2",
   "metadata": {},
   "outputs": [
    {
     "name": "stdout",
     "output_type": "stream",
     "text": [
      "d2['test'] = [1] d['test'] = [1]\n"
     ]
    }
   ],
   "source": [
    "try:\n",
    "    d = SQLDict(\"__tmp.db\",writeback=True)\n",
    "    mylist = d['test'] = []\n",
    "\n",
    "    assert mylist is d['test'], \"should be the same object\"\n",
    "    assert mylist == d['test'], \"equality should pass\"\n",
    "\n",
    "    mylist.append(1)\n",
    "    assert mylist is d['test'], \"should be the same object\"\n",
    "    assert mylist == d['test'], \"Should still be equal\"\n",
    "    \n",
    "    d2 =  SQLDict(\"__tmp.db\",writeback=True)\n",
    "    \n",
    "    # This should fail since there was no sync\n",
    "    assert d2['test'] != d['test']\n",
    "    \n",
    "    d.sync()\n",
    "    \n",
    "    d2 =  SQLDict(\"__tmp.db\",writeback=True)\n",
    "    # Now this should pass\n",
    "    print(f\"{d2['test'] = } {d['test'] = }\")\n",
    "    assert d2['test'] == d['test']\n",
    "    \n",
    "finally:\n",
    "    pass#os.unlink(\"__tmp.db\")"
   ]
  },
  {
   "cell_type": "markdown",
   "id": "f4c4933b-29bf-4643-88c7-758a7574435e",
   "metadata": {},
   "source": [
    "These are a few more methods where the code was modified for writeback"
   ]
  },
  {
   "cell_type": "code",
   "execution_count": 31,
   "id": "0ff01b18-c411-485f-9a05-6d63587aff8a",
   "metadata": {},
   "outputs": [],
   "source": [
    "for writeback in [True,False]:\n",
    "    d = SQLDict(\":memory:\",writeback=False)\n",
    "    mylist = d['test'] = ['this','is','a','test']\n",
    "\n",
    "    assert d.glob('te*') == [['this', 'is', 'a', 'test']]\n",
    "    \n",
    "    del d['test']\n",
    "    assert 'test' not in d\n"
   ]
  },
  {
   "cell_type": "code",
   "execution_count": null,
   "id": "9351295a-89a5-4cfe-95ed-177624b2e9db",
   "metadata": {},
   "outputs": [],
   "source": []
  },
  {
   "cell_type": "code",
   "execution_count": null,
   "id": "0e4f6032-d023-4058-9843-fe0c00b58dde",
   "metadata": {},
   "outputs": [],
   "source": []
  },
  {
   "cell_type": "code",
   "execution_count": null,
   "id": "f1091aae-c1c9-4826-ba99-cf546b7275ec",
   "metadata": {},
   "outputs": [],
   "source": []
  }
 ],
 "metadata": {
  "kernelspec": {
   "display_name": "Python 3 (ipykernel)",
   "language": "python",
   "name": "python3"
  },
  "language_info": {
   "codemirror_mode": {
    "name": "ipython",
    "version": 3
   },
   "file_extension": ".py",
   "mimetype": "text/x-python",
   "name": "python",
   "nbconvert_exporter": "python",
   "pygments_lexer": "ipython3",
   "version": "3.9.12"
  }
 },
 "nbformat": 4,
 "nbformat_minor": 5
}
